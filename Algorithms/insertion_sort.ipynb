{
 "cells": [
  {
   "cell_type": "code",
   "execution_count": 13,
   "id": "8ef1f026",
   "metadata": {},
   "outputs": [],
   "source": [
    "def insertion_sort(arr):\n",
    "    for i in range(1,len(arr)):\n",
    "        key = arr[i]\n",
    "        print(f\"key is {key}\")\n",
    "        j = i-1\n",
    "        print(f\"value of i is {i} j is {j}\")\n",
    "        while j>=0 and key < arr[j]:\n",
    "            print(f\"key {key} is smaller than {arr[j]}....so swapping\")\n",
    "            print(f\"arr before swapping : {arr}\")\n",
    "            arr[j+1] = arr[j]\n",
    "            print(f\"array after swapping {arr}\")            \n",
    "            j -= 1\n",
    "            print(f\"value of j {j}\")\n",
    "        arr[j+1] = key\n",
    "        print(f\"current arr : {arr}\")\n",
    "        print(5*'----')"
   ]
  },
  {
   "cell_type": "code",
   "execution_count": 14,
   "id": "1735c723",
   "metadata": {},
   "outputs": [],
   "source": [
    "arr = [1, 10, 2, 20, 5]\n"
   ]
  },
  {
   "cell_type": "code",
   "execution_count": 15,
   "id": "c99f44ed",
   "metadata": {},
   "outputs": [
    {
     "name": "stdout",
     "output_type": "stream",
     "text": [
      "key is 10\n",
      "value of i is 1 j is 0\n",
      "current arr : [1, 10, 2, 20, 5]\n",
      "--------------------\n",
      "key is 2\n",
      "value of i is 2 j is 1\n",
      "key 2 is smaller than 10....so swapping\n",
      "arr before swapping : [1, 10, 2, 20, 5]\n",
      "array after swapping [1, 10, 10, 20, 5]\n",
      "value of j 0\n",
      "current arr : [1, 2, 10, 20, 5]\n",
      "--------------------\n",
      "key is 20\n",
      "value of i is 3 j is 2\n",
      "current arr : [1, 2, 10, 20, 5]\n",
      "--------------------\n",
      "key is 5\n",
      "value of i is 4 j is 3\n",
      "key 5 is smaller than 20....so swapping\n",
      "arr before swapping : [1, 2, 10, 20, 5]\n",
      "array after swapping [1, 2, 10, 20, 20]\n",
      "value of j 2\n",
      "key 5 is smaller than 10....so swapping\n",
      "arr before swapping : [1, 2, 10, 20, 20]\n",
      "array after swapping [1, 2, 10, 10, 20]\n",
      "value of j 1\n",
      "current arr : [1, 2, 5, 10, 20]\n",
      "--------------------\n"
     ]
    }
   ],
   "source": [
    "insertion_sort(arr)\n"
   ]
  },
  {
   "cell_type": "code",
   "execution_count": 4,
   "id": "3d54620a",
   "metadata": {},
   "outputs": [
    {
     "data": {
      "text/plain": [
       "[1, 2, 5, 10, 20]"
      ]
     },
     "execution_count": 4,
     "metadata": {},
     "output_type": "execute_result"
    }
   ],
   "source": [
    "arr"
   ]
  },
  {
   "cell_type": "code",
   "execution_count": null,
   "id": "825826eb",
   "metadata": {},
   "outputs": [],
   "source": []
  }
 ],
 "metadata": {
  "kernelspec": {
   "display_name": "Python 3 (ipykernel)",
   "language": "python",
   "name": "python3"
  },
  "language_info": {
   "codemirror_mode": {
    "name": "ipython",
    "version": 3
   },
   "file_extension": ".py",
   "mimetype": "text/x-python",
   "name": "python",
   "nbconvert_exporter": "python",
   "pygments_lexer": "ipython3",
   "version": "3.9.12"
  }
 },
 "nbformat": 4,
 "nbformat_minor": 5
}
